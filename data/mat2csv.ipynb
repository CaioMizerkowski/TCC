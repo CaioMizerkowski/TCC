{
 "cells": [
  {
   "cell_type": "code",
   "execution_count": 86,
   "metadata": {},
   "outputs": [],
   "source": [
    "from scipy.io import loadmat\n",
    "import polars as pl\n",
    "import numpy as np\n",
    "from pathlib import Path"
   ]
  },
  {
   "cell_type": "code",
   "execution_count": 92,
   "metadata": {},
   "outputs": [
    {
     "name": "stdout",
     "output_type": "stream",
     "text": [
      "modeledsbrt.mat\n",
      "modeleddoherty.mat\n",
      "modeledADSdata.mat\n",
      "modeledcadence.mat\n"
     ]
    }
   ],
   "source": [
    "for p in Path().glob('*.mat'):\n",
    "    print(p)\n",
    "    data = loadmat(p)\n",
    "    in_extraction = data['in_extraction']\n",
    "    out_extraction = data['out_extraction']\n",
    "    extraction = np.concatenate((in_extraction.real, in_extraction.imag, out_extraction.real, out_extraction.imag), axis=1)\n",
    "    newfile = f'{p.stem}_extraction.csv'\n",
    "    pl.DataFrame(extraction, columns=('in_real', 'in_imag', 'out_real', 'out_imag')).write_csv(newfile)\n",
    "\n",
    "    in_validation = data['in_validation']\n",
    "    out_validation = data['out_validation']\n",
    "    validation = np.concatenate((in_validation.real, in_validation.imag, out_validation.real, out_validation.imag), axis=1)\n",
    "    newfile = f'{p.stem}_validation.csv'\n",
    "    pl.DataFrame(extraction, columns=('in_real', 'in_imag', 'out_real', 'out_imag')).write_csv(newfile)"
   ]
  },
  {
   "cell_type": "code",
   "execution_count": null,
   "metadata": {},
   "outputs": [],
   "source": []
  }
 ],
 "metadata": {
  "kernelspec": {
   "display_name": "Python 3.10.4 64-bit ('TCC')",
   "language": "python",
   "name": "python3"
  },
  "language_info": {
   "codemirror_mode": {
    "name": "ipython",
    "version": 3
   },
   "file_extension": ".py",
   "mimetype": "text/x-python",
   "name": "python",
   "nbconvert_exporter": "python",
   "pygments_lexer": "ipython3",
   "version": "3.10.4"
  },
  "orig_nbformat": 4,
  "vscode": {
   "interpreter": {
    "hash": "337f31653d55614d460624929afd7126e454a2f71d7604f7a7344157ac4ab21c"
   }
  }
 },
 "nbformat": 4,
 "nbformat_minor": 2
}
