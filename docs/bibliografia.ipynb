{
 "cells": [
  {
   "cell_type": "markdown",
   "metadata": {},
   "source": [
    "analise \\\n",
    "sintese \\\n",
    "identifição \\\n",
    "e problema inverso \\\n",
    "tipos de sistemas para modelagem \\\n",
    "aplicações em sistemas de comunicação sem fio \\\n",
    "linearidade \\\n",
    "condições de Hadamard \\\n",
    "amplificadores - kenninton "
   ]
  },
  {
   "cell_type": "markdown",
   "metadata": {},
   "source": [
    "- TIKHONOV, A. N.; ASENIN, V. Y. Solutions of Ill-Posed Problems. 1977. 270 p. -> Bom\n",
    "- GIOVANNELLI, J.-F.; IDIER, J. Regularization and Bayesian Methods for Inverse\n",
    "- Problems in Signal and Image Processing. [S.l.: s.n.], 2015. 297 p. ISBN 9781848216372.\n",
    "- [Estimação conjunta de atraso de tempo subamostral e eco de referência para sinais de ultrassom](https://riut.utfpr.edu.br/jspui/handle/1/2616) \\\n",
    "\"Restauração de sinais pode ser equivalente a um problema inverso\" \\\n",
    "TCC do Ernesto, tem alguns pontos interessantes, mas bem grande.\n",
    "\n",
    "- [Regularization of inverse problems](https://arxiv.org/pdf/2001.00617.pdf)\n",
    "Notas de aula, bastante informação e bem denso. Bastante matemática (em excesso), fala sobre problemas inversos lineares e não lineares."
   ]
  },
  {
   "cell_type": "markdown",
   "metadata": {},
   "source": [
    "### Para citação:\n",
    "\n",
    "- [Neural Networks and Classical Algorithms in Inverse Problems of Anomalous Diffusion](https://ieeexplore-ieee-org.ez22.periodicos.capes.gov.br/document/9303217) \\\n",
    "Utilização de um NN para solucionar um problema inverso. No qual a rede neural tem o papel de um preditor e um método de gradiente o papel de um corretor. \n",
    "- [Solving Inverse Electromagnetic Problems Using Deep Learning](https://ieeexplore-ieee-org.ez22.periodicos.capes.gov.br/document/9260800)\n",
    "Microwave Imaging -> problema inverso -> antenas e falhas -> mal-posto. Uso de DL para resolver um problema inverso eletromagnético.  \n",
    "- [Neural Networks for Inverse Problems: the Microwave Imaging Case](https://ieeexplore-ieee-org.ez22.periodicos.capes.gov.br/document/9411317) \\\n",
    "Parecido com o anterior, mas comparando os efeitos de mais camadas ocultas.\n",
    "- [Deep Learning: A Powerful Framework for the Real-Time Solution of Inverse Scattering Problems](https://ieeexplore-ieee-org.ez22.periodicos.capes.gov.br/document/9704174) \\\n",
    "Outro lidando com CNN, mesma linha.\n",
    "- [Deep Learning Techniques for Inverse Problems in Imaging](https://ieeexplore-ieee-org.ez22.periodicos.capes.gov.br/document/9084378) -> Muito bom, ler com calma depois \\\n",
    "Problema inverso as vezes chamado de image reconstruction. Os métodos podem assumir como certos coisas como suavidade e propriedades geometricas.\\\n",
    "Lista de aplicações práticas. Supervisionado ou não supervisionado, qual método estou usando para resolver o problema inverso?\n",
    "\n",
    "- [On the Convergence of Learning-Based Iterative Methods for Nonconvex Inverse Problems](https://ieeexplore-ieee-org.ez22.periodicos.capes.gov.br/document/8727950) \\\n",
    "Nada de muito útil\n",
    "\n",
    "- [Deep Convolutional Neural Network for Inverse Problems in Imaging](https://ieeexplore-ieee-org.ez22.periodicos.capes.gov.br/document/7949028) -> Interessante \\\n",
    "Usa CNN para melhorar os resultados da resolução de um problema inverso na área de biomedicina.\n",
    "\n",
    "- [Solving Full-Wave Nonlinear Inverse Scattering Problems by Deep Learning Schemes](https://ieeexplore-ieee-org.ez22.periodicos.capes.gov.br/document/8779092) \\\n",
    "Outra rede neural usada para resolver um problema inverso de um dielétrico.\n",
    "\n",
    "- [Deep Convolutional Neural Network Approach for Solving Nonlinear Inverse Scattering Problems](https://ieeexplore-ieee-org.ez22.periodicos.capes.gov.br/document/8888813) \\\n",
    "Mais outro artigo parecido\n",
    "\n",
    "- [Solving inverse problems in nonlinear PDEs by recurrent neural networks](https://ieeexplore-ieee-org.ez22.periodicos.capes.gov.br/document/298524)  \n",
    "Exatamente o que o titulo diz\n",
    "\n",
    "- [An Improved Deep Learning Scheme for Solving 2-D and 3-D Inverse Scattering Problems](https://ieeexplore-ieee-org.ez22.periodicos.capes.gov.br/document/9214919)\\\n",
    "Mais outro, boring\n",
    "\n",
    "- [Low Computational Complexity Digital Predistortion Based on Convolutional Neural Network for Wideband Power Amplifiers](https://ieeexplore-ieee-org.ez22.periodicos.capes.gov.br/abstract/document/9528846)\\\n",
    "DPD feito com CNN\n",
    "\n",
    "- [Neural Network DPD via Backpropagation through a Neural Network Model of the PA](https://par.nsf.gov/servlets/purl/10202730)\\\n",
    "Outro DPD com NN\n",
    "\n",
    "- [Neural Network DPD via Backpropagation through a Neural Network Model of the PA](https://ieeexplore-ieee-org.ez22.periodicos.capes.gov.br/document/9048910)\\\n",
    "DPD feito com NN\n",
    "\n",
    "### controle inverso, Lyapunov exponent e problema de bifurcação\n",
    "\n",
    "- [Study of Adaptive Inverse Control to Stale Platform](https://ieeexplore-ieee-org.ez22.periodicos.capes.gov.br/document/4722741)\n",
    "- [Direct Adaptive Inverse Control Based on Variable Radial Basis Function Network](https://ieeexplore-ieee-org.ez22.periodicos.capes.gov.br/document/1712856)\n",
    "- [Nonlinear Adaptive Inverse Control Synthesis Based on RLS Volterra Model](https://ieeexplore-ieee-org.ez22.periodicos.capes.gov.br/document/9632240)\n",
    "- [The role of initial conditions in the synchronization problem](https://ieeexplore-ieee-org.ez22.periodicos.capes.gov.br/document/633466)\n",
    "- [Convergence Analysis for Initial Condition Estimation in Coupled Map Lattice Systems](https://ieeexplore-ieee-org.ez22.periodicos.capes.gov.br/document/6188537)\n",
    "- [Time series prediction using Lyapunov exponents in embedding phase space](https://ieeexplore-ieee-org.ez22.periodicos.capes.gov.br/document/770189)\n",
    "- [Desynchronizing a Chaotic Pattern Recognition Neural Network to Model Inaccurate Perception](https://ieeexplore-ieee-org.ez22.periodicos.capes.gov.br/document/4200792)\n",
    "- [How initial conditions affect generalization performance in large networks](https://ieeexplore-ieee-org.ez22.periodicos.capes.gov.br/document/557701)\n",
    "- [Inverse Stability Problem and Applications to Renewables Integration](https://ieeexplore-ieee-org.ez22.periodicos.capes.gov.br/document/8070329)\n",
    "- [Why not multiple solutions: agent-based social interaction analysis via inverse simulation](https://ieeexplore-ieee-org.ez22.periodicos.capes.gov.br/document/825315)\n",
    "- [Monte Carlo analysis of inverse problems](https://iopscience.iop.org/article/10.1088/0266-5611/18/3/201/meta)\n",
    "- [Bifurcation analysis of a neural network model](https://link.springer.com/article/10.1007/BF00203668)\n",
    "- [Bifurcation analysis in a recurrent neural network model with delays](https://www.sciencedirect.com/science/article/pii/S1007570412002912)\n",
    "- [Global bifurcation structure of chaotic neural networks and its application to traveling salesman problems](https://www.sciencedirect.com/science/article/pii/S0893608097000233)\n",
    "-[From Bayes to Tarantola: New insights to understand uncertainty in inverse problems](https://www.sciencedirect.com/science/article/abs/pii/S0926985113001444)\n"
   ]
  }
 ],
 "metadata": {
  "kernelspec": {
   "display_name": "Python 3.10.4 64-bit ('3.10.4')",
   "language": "python",
   "name": "python3"
  },
  "language_info": {
   "name": "python",
   "version": "3.10.4"
  },
  "orig_nbformat": 4,
  "vscode": {
   "interpreter": {
    "hash": "8ebb7c335093bb2a6e5a771fe2f24267b9482242c441074cc9d820c00b8871c6"
   }
  }
 },
 "nbformat": 4,
 "nbformat_minor": 2
}
