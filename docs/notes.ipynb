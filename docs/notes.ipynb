{
 "cells": [
  {
   "cell_type": "markdown",
   "metadata": {},
   "source": [
    "# Email professor\n",
    "Olá Caio,\n",
    "\n",
    "Conforme conversamos hoje, segue abaixo detalhamento de uma possível organização de TCC na temática das suas ICs.\n",
    "Estou à disposição para demais esclarecimentos.\n",
    "\n",
    "Eduardo Lima\n",
    "\n",
    "________________\n",
    "Uma sugestão para seu TCC seria organizar todo o material já desenvolvido por você nas 3 ICs [Na 1a IC, você explorou a utilização do problema inverso em DPD (que é na validação experimental).\n",
    "Na 2a IC você estendeu para dual-band concorrente.\n",
    "Na 3a IC você explorou problema inverso em identificação iterativa de cascata.\n",
    "\n",
    "Acrescentar com o seguinte estudo:\n",
    "Explorar uso de problema inverso na modelagem de DPD de banda única. Em específico, quando não há inversa do PA, o problema inverso tem mais de uma solução (exemplo: quando ganho é exatamente zero para uma faixa de valores de amplitudes de entrada, há infinitas soluções). Nessa temática, uma possível organização do TCC seria:\n",
    "\n",
    "- Capítulo II: Definir o que é problema inverso (PI), ou seja, apenas a entrada instantânea é desconhecida, enquanto que todas as demais informações são conhecidas (entradas passadas, saída instantânea e sistema não linear com memória).\n",
    "\n",
    "- Capítulo III: Aplicação do PI em um modelo de PA (aqui é a parte nova, e a ideia é dizer que o PI permite verificar que há amostras onde o mapeamento deixa de ser um para um para o DPD, vide detalhes abaixo).\n",
    "\n",
    "- Capítulo IV: Aplicação do PI em um modelo de DPD (útil para validar DPD, basta resumir o que você já tem das 2 primeiras ICs)\n",
    "\n",
    "- (opcional) Capítulo V:  Aplicação do PI em em identificação iterativa de cascata (aqui material da 3a IC)\n",
    "\n",
    "### Sobre o novo estudo (Capítulo III):\n",
    "Para cada um dos conjuntos de entrada e saída enviados em anexo a este email, realizar o seguinte procedimento:\n",
    "\n",
    "a) Treinar e validar uma rede neural para modelar a característica direta do PA (ou seja, repetir suas rotinas, porém não invertendo papeis de entrada e saída);\n",
    "\n",
    "b) Resolver o seguinte PI:\n",
    "\n",
    "b1) O sistema conhecido é a rede neural que modela o PA e que foi obtida no item a).\n",
    "\n",
    "b2) A saída instantânea desejada é idêntica a entrada instantânea aplicada na entrada do PA;\n",
    "\n",
    "b3) obter como solução do PI a entrada instantânea, através do fsolve, variando o chute inicial (em um caso, usar um valor de amplitude pequeno e um outro, um valor de amplitude grande).\n",
    "\n",
    "Justificativa: em 3 dos conjuntos de entrada-saída enviados em anexo a este email, é bastante visível que, para grandes amplitudes, o ganho diminui. Suponha que não houvesse memória. Ao trocar-se os papéis da entrada e saída, verifica-se que, para grandes amplitudes, deixa-se de ter um mapeamento um para um, ou seja, para uma única entrada, há 2 saídas. Na resolução deste PI, para as amostras onde não há mapeamento um para um, vão existir 2 valores diferentes para a entrada instantânea que são soluções do PI: um valor para o ganho crescente, antes da mudança de concavidade da curva direta do PA e outro para o ganho decrescente.\n",
    "\n",
    "Em outras palavras, a inversa exata do modelo do PA só pode ser definida por uma função implícita (ou, de modo alternativo, não há função explícita para a inversa exata do PA, já que função explícita exige a presença exclusiva de mapeamento um para um).\n",
    "\n",
    "___________________________________\n",
    "\n",
    "Possíveis desdobramentos desse tema do TCC para um eventual mestrado incluem:\n",
    "\n",
    "A. Extensão do Capítulo III do TCC para caso de dual-band concorrente. Ponto a investigar: como avaliar não existência de inversa no caso 2D usando apenas as informações em banda-base?\n",
    "\n",
    "B. sobre o limite de validade do problema inverso. Em específico:\n",
    "\n",
    "B1) Estudo teórico de quatro exemplos sem memória, bem simples, onde: a) solução existe e é única (1a IC, tansig); b) há mais de uma solução (reta de inclinação unitária passando pela origem e sofrendo hard-clipping, ou seja, caso onde não há inversa do PA); c) não há solução (ex: descontinuidade na origem e soft-clipping); d) o caso mais geral onde há descontinuidade na origem e hard-clipping, dependendo da região da curva, ou não há solução ou há infinitas.\n",
    "\n",
    "B2) Partir de um modelo de DPD habitual onde pode haver infinitas soluções (hard-clipping com função de ativação);\n",
    "\n",
    "B3) Partir de um modelo de DPD habitual onde pode não haver solução do problema inverso (descontinuidade na origem e soft-clipping);\n",
    "\n",
    "B4) Partir de um modelo de DPD habitual onde ou pode haver infinitas soluções ou pode não haver solução do problema inverso (descontinuidade na origem e hard-clipping);\n",
    "\n",
    "B4) testar para funções de ativação comuns em deep learning (ex: RELU, soft-RELU, etc)."
   ]
  },
  {
   "cell_type": "markdown",
   "metadata": {},
   "source": [
    "# Trechos TCC Ernesto\n",
    "```\n",
    "Algumas propriedades dos dados expressas pelos coeficientes destas funções são assumidas como conhecidas, quando na pratica, estas propriedades são desconhecidas, e sua determinações ou estimação se torna um problema inverso. Em geral, estes problemas são mal-postos, ou seja, o processo de determinac¸ao de sua solução apresenta algumas inconsistencias. Sendo assim, metodos para a solução de problemas inversos encontram diversas aplicações.\n",
    "...\n",
    "O problema final se da no fato de que a Equação (8) não considera nenhuma informação à priori sobre a solução.\n",
    "...\n",
    "Para regularizar um problema mal-posto e torna-lo bem-posto, é preciso introduzir restrições no problema. Desta forma, tenta-se forçar a solução a se situar em um subespaço do espaço de soluções.\n",
    "\n",
    "```\n",
    "https://en.wikipedia.org/wiki/Well-posed_problem\n",
    "https://en.wikipedia.org/wiki/Inverse_problem\n",
    "\n",
    "Encontrar e validar o modelo inverso do AP é um problema mal posto em razão do mesmo não cumprir as condições de Hadamard, exigindo informações adicionais sobre o problema. Estas informações são nos casos analisados as informações de memória, utilizadas para melhorar o acerto do modelo. Sem isso, pode ocorrer uma severa instabilidade na solução encontrada, aonde que com o uso de um coeficiente para ajuste do modelo, um resultado varie entre dois extremos.\n",
    "\n",
    "Analisar a sensibilidade ao ruído na medição.\n",
    "\n",
    "Palavra chave: Regularização\n",
    "Regularização - Adicionar informações já conhecidas na solução do problema, para conseguir mais estabilidade e conseguir um modelo mais acurado."
   ]
  },
  {
   "cell_type": "markdown",
   "metadata": {},
   "source": [
    "# Wikipedia\n",
    "problema bem posto: três caracteristica: Solução existe, solução é única, o comportamento da solução se altera de forma continua em relação as condições iniciais\n",
    "Encontrar a inversa do amplificador de potência, sem o uso de memória, não é um problema bem posto.\n",
    "\n",
    "Modelos continuos podem necessitar serem discretizados para se obeter soluções númericas, mais ou menos como resolver uma função implicita.\n",
    "\n",
    "Mal condicionado->Pequeno erro nos dados pode causar um grande erro na resposta, problema de instabilidade e alegórico a teoria do caos.\n",
    "\n",
    "Sistemas complexos não lineares (caóticos) são alguns dos exemplos de instabilidade.\n",
    "\n",
    "https://en.wikipedia.org/wiki/Condition_number -> Relevante como métrica\n",
    "https://en.wikipedia.org/wiki/Regularization_(mathematics) ->"
   ]
  },
  {
   "cell_type": "markdown",
   "metadata": {},
   "source": [
    "# Solutions of ill posed problemas\n",
    "\n",
    "Podem ser divididos em dois grupos: De design (problemas de otimização) e de recognition (processamento e interpretação de dados).\n",
    "\n",
    "Medições causam erros aleatórios\n",
    "\n",
    "Aproximações computacionais também causam erros, para problemas lineares (multiplicações de matrizes), mesmo determinar se é singular ou não o problema pode ser inviavel (pagina 6)\n",
    "\n",
    "Substitui:\n",
    "$$Az=u$$\n",
    "Por:\n",
    "$$\\hat{A}z=\\hat{u}$$\n",
    "\n",
    "Como só existe um sistema aproximado, ao invés do exato e real, devido aos erros de medições e a aritmetica no computador, só podemos achar uma solução aproximada (que pode ou não ser resolvivel).\n",
    "\n",
    "Como é tudo propenso a erros, a solução encontrada deve ser estavél a pequenas alterações.\n",
    "\n",
    "condições 1 e 2 caracterizam a \"mathematical determinacy\", enquanto a condição 3 a física e a possibilidade de aplicar métodos números para resolver o problema (já que métodos números necessitam a estabilidade do problema)\n",
    "\n",
    "--synthesis problem\n",
    "informações suplmentares "
   ]
  },
  {
   "cell_type": "markdown",
   "metadata": {},
   "source": []
  }
 ],
 "metadata": {
  "interpreter": {
   "hash": "8ebb7c335093bb2a6e5a771fe2f24267b9482242c441074cc9d820c00b8871c6"
  },
  "kernelspec": {
   "display_name": "Python 3.10.4 64-bit ('3.10.4')",
   "language": "python",
   "name": "python3"
  },
  "language_info": {
   "codemirror_mode": {
    "name": "ipython",
    "version": 3
   },
   "file_extension": ".py",
   "mimetype": "text/x-python",
   "name": "python",
   "nbconvert_exporter": "python",
   "pygments_lexer": "ipython3",
   "version": "3.10.4"
  },
  "orig_nbformat": 4
 },
 "nbformat": 4,
 "nbformat_minor": 2
}
