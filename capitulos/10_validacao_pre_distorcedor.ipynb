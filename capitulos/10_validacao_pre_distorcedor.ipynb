{
 "cells": [
  {
   "cell_type": "markdown",
   "metadata": {},
   "source": [
    "# Plano\n",
    "Introduzir o primeiro uso no problema inverso neste trabalho, com a metodlogia e os dados a serem utilizados."
   ]
  }
 ],
 "metadata": {
  "language_info": {
   "name": "python"
  },
  "orig_nbformat": 4
 },
 "nbformat": 4,
 "nbformat_minor": 2
}
