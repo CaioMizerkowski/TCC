{
 "cells": [
  {
   "cell_type": "markdown",
   "metadata": {},
   "source": [
    "# Plano\n",
    "Introduzir os principais pontos do trabalho."
   ]
  },
  {
   "cell_type": "markdown",
   "metadata": {},
   "source": [
    "# Introdução"
   ]
  },
  {
   "cell_type": "markdown",
   "metadata": {},
   "source": [
    "## Amplificadores de potência\n",
    "### Eficiência\n",
    "### Pré e pós distorcedores digitais\n",
    "### Problema Inverso"
   ]
  },
  {
   "cell_type": "markdown",
   "metadata": {},
   "source": [
    "## Modelagem e Simulação\n",
    "### Redes neurais artificiais\n",
    "### Volterra"
   ]
  },
  {
   "cell_type": "markdown",
   "metadata": {},
   "source": [
    "## Problema Inverso\n",
    "### Validação do Pré-distorcedor digital\n",
    "### Determinação dos pontos não-bijetivos"
   ]
  }
 ],
 "metadata": {
  "language_info": {
   "name": "python"
  },
  "orig_nbformat": 4
 },
 "nbformat": 4,
 "nbformat_minor": 2
}
