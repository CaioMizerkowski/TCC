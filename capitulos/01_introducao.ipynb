{
 "cells": [
  {
   "cell_type": "markdown",
   "metadata": {},
   "source": [
    "# Plano\n",
    "Introduzir os principais pontos do trabalho."
   ]
  },
  {
   "cell_type": "markdown",
   "metadata": {},
   "source": [
    "# Introdução"
   ]
  },
  {
   "cell_type": "markdown",
   "metadata": {},
   "source": [
    "### Objetivos e motivação\n",
    "O objetivo fundamental deste trabalho é o inicio do desenvolvimento de uma metodologia para a analise do comportamento dos amplificadores de potência (PAs) utilizando-se modelos computacionais e a resolução do problema inverso. A metodologia desenvolvida através da comparação entre diferentes PAs, modelos e regiões de atuação.\n",
    "\n",
    "A motivação é que esta metodologia facilite o entendimento e o desenvolvimento de modelos computacionais que se comportem de maneira similar aos modelos dos PAs, por possuírem uma reunião monotônica e outra não-monotônica, com a presença ou não de elementos de memória."
   ]
  },
  {
   "cell_type": "markdown",
   "metadata": {},
   "source": []
  }
 ],
 "metadata": {
  "language_info": {
   "name": "python"
  },
  "orig_nbformat": 4
 },
 "nbformat": 4,
 "nbformat_minor": 2
}
