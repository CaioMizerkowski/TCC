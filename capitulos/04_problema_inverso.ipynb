{
 "cells": [
  {
   "cell_type": "markdown",
   "metadata": {},
   "source": [
    "# Plano\n",
    "Fazer uma revisão bibliográfica do problema inverso, entrando no que foi utilizado dentro do trabalho e do que é encontrado na literatura sobre o assunto. Cobrir um pouco sobre problemas mal condicionados."
   ]
  },
  {
   "cell_type": "code",
   "execution_count": null,
   "metadata": {},
   "outputs": [],
   "source": []
  }
 ],
 "metadata": {
  "language_info": {
   "name": "python"
  },
  "orig_nbformat": 4
 },
 "nbformat": 4,
 "nbformat_minor": 2
}
