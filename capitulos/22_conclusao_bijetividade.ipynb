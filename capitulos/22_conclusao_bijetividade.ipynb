{
 "cells": [
  {
   "cell_type": "markdown",
   "metadata": {},
   "source": [
    "# Plano\n",
    "Mostrar a conclusão sobre o novo problema abordado nesse trabalho, como é um problema novo, ter que gerar ela."
   ]
  }
 ],
 "metadata": {
  "language_info": {
   "name": "python"
  },
  "orig_nbformat": 4
 },
 "nbformat": 4,
 "nbformat_minor": 2
}
