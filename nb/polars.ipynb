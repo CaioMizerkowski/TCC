{
 "cells": [
  {
   "cell_type": "code",
   "execution_count": 1,
   "metadata": {},
   "outputs": [],
   "source": [
    "import polars as pl"
   ]
  },
  {
   "cell_type": "code",
   "execution_count": 27,
   "metadata": {},
   "outputs": [],
   "source": [
    "df = pl.DataFrame(\n",
    "    {\n",
    "        \"A\": [1.1, 2, 3, 4, 5],\n",
    "        \"fruits\": [\"banana\", \"banana\", \"apple\", \"apple\", \"banana\"],\n",
    "        \"B\": [5, 4, 3, 2, 1],\n",
    "        \"cars\": [\"beetle\", \"audi\", \"beetle\", \"beetle\", \"beetle\"],\n",
    "    }\n",
    ")"
   ]
  },
  {
   "cell_type": "code",
   "execution_count": 31,
   "metadata": {},
   "outputs": [
    {
     "data": {
      "text/html": [
       "<div>\n",
       "<style scoped>\n",
       "    .dataframe tbody tr th:only-of-type {\n",
       "        vertical-align: middle;\n",
       "    }\n",
       "\n",
       "    .dataframe tbody tr th {\n",
       "        vertical-align: top;\n",
       "    }\n",
       "\n",
       "    .dataframe thead th {\n",
       "        text-align: right;\n",
       "    }\n",
       "</style>\n",
       "<table border=\"1 \"class=\"dataframe \">\n",
       "<thead>\n",
       "<tr>\n",
       "<th>\n",
       "fruits\n",
       "</th>\n",
       "<th>\n",
       "A\n",
       "</th>\n",
       "</tr>\n",
       "<tr>\n",
       "<td>\n",
       "str\n",
       "</td>\n",
       "<td>\n",
       "f64\n",
       "</td>\n",
       "</tr>\n",
       "</thead>\n",
       "<tbody>\n",
       "<tr>\n",
       "<td>\n",
       "\"apple\"\n",
       "</td>\n",
       "<td>\n",
       "3.0\n",
       "</td>\n",
       "</tr>\n",
       "<tr>\n",
       "<td>\n",
       "\"apple\"\n",
       "</td>\n",
       "<td>\n",
       "4.0\n",
       "</td>\n",
       "</tr>\n",
       "<tr>\n",
       "<td>\n",
       "\"banana\"\n",
       "</td>\n",
       "<td>\n",
       "1.1\n",
       "</td>\n",
       "</tr>\n",
       "<tr>\n",
       "<td>\n",
       "\"banana\"\n",
       "</td>\n",
       "<td>\n",
       "2.0\n",
       "</td>\n",
       "</tr>\n",
       "<tr>\n",
       "<td>\n",
       "\"banana\"\n",
       "</td>\n",
       "<td>\n",
       "5.0\n",
       "</td>\n",
       "</tr>\n",
       "</tbody>\n",
       "</table>\n",
       "</div>"
      ],
      "text/plain": [
       "shape: (5, 2)\n",
       "┌────────┬─────┐\n",
       "│ fruits ┆ A   │\n",
       "│ ---    ┆ --- │\n",
       "│ str    ┆ f64 │\n",
       "╞════════╪═════╡\n",
       "│ apple  ┆ 3.0 │\n",
       "├╌╌╌╌╌╌╌╌┼╌╌╌╌╌┤\n",
       "│ apple  ┆ 4.0 │\n",
       "├╌╌╌╌╌╌╌╌┼╌╌╌╌╌┤\n",
       "│ banana ┆ 1.1 │\n",
       "├╌╌╌╌╌╌╌╌┼╌╌╌╌╌┤\n",
       "│ banana ┆ 2.0 │\n",
       "├╌╌╌╌╌╌╌╌┼╌╌╌╌╌┤\n",
       "│ banana ┆ 5.0 │\n",
       "└────────┴─────┘"
      ]
     },
     "execution_count": 31,
     "metadata": {},
     "output_type": "execute_result"
    }
   ],
   "source": []
  },
  {
   "cell_type": "code",
   "execution_count": 75,
   "metadata": {},
   "outputs": [
    {
     "data": {
      "text/html": [
       "<div>\n",
       "<style scoped>\n",
       "    .dataframe tbody tr th:only-of-type {\n",
       "        vertical-align: middle;\n",
       "    }\n",
       "\n",
       "    .dataframe tbody tr th {\n",
       "        vertical-align: top;\n",
       "    }\n",
       "\n",
       "    .dataframe thead th {\n",
       "        text-align: right;\n",
       "    }\n",
       "</style>\n",
       "<table border=\"1 \"class=\"dataframe \">\n",
       "<thead>\n",
       "<tr>\n",
       "<th>\n",
       "B\n",
       "</th>\n",
       "</tr>\n",
       "<tr>\n",
       "<td>\n",
       "f64\n",
       "</td>\n",
       "</tr>\n",
       "</thead>\n",
       "<tbody>\n",
       "<tr>\n",
       "<td>\n",
       "9.5\n",
       "</td>\n",
       "</tr>\n",
       "</tbody>\n",
       "</table>\n",
       "</div>"
      ],
      "text/plain": [
       "shape: (1, 1)\n",
       "┌─────┐\n",
       "│ B   │\n",
       "│ --- │\n",
       "│ f64 │\n",
       "╞═════╡\n",
       "│ 9.5 │\n",
       "└─────┘"
      ]
     },
     "execution_count": 75,
     "metadata": {},
     "output_type": "execute_result"
    }
   ],
   "source": [
    "(\n",
    "df.sort(\n",
    "    [\n",
    "        \"cars\"\n",
    "    ]\n",
    "    )\n",
    ".select(\n",
    "    [\n",
    "        pl.col(\"cars\"),\n",
    "        pl.col(\"B\").mean()\n",
    "                   .over([\"cars\", \"fruits\"]),\n",
    "    ]\n",
    "    )\n",
    ".distinct()\n",
    ".select(\n",
    "    [\n",
    "        pl.col(\"B\").sum(),\n",
    "    ]\n",
    ")\n",
    ")"
   ]
  },
  {
   "cell_type": "code",
   "execution_count": 101,
   "metadata": {},
   "outputs": [
    {
     "name": "stdout",
     "output_type": "stream",
     "text": [
      "shape: (3, 6)\n",
      "┌────────────┬──────────────┬─────────────┬──────────────┬─────────────┬───────┐\n",
      "│ species    ┆ sepal_length ┆ sepal_width ┆ petal_length ┆ petal_width ┆ sum   │\n",
      "│ ---        ┆ ---          ┆ ---         ┆ ---          ┆ ---         ┆ ---   │\n",
      "│ str        ┆ f64          ┆ f64         ┆ f64          ┆ f64         ┆ f64   │\n",
      "╞════════════╪══════════════╪═════════════╪══════════════╪═════════════╪═══════╡\n",
      "│ setosa     ┆ 5.313636     ┆ 3.713636    ┆ 1.509091     ┆ 0.277273    ┆ 116.9 │\n",
      "├╌╌╌╌╌╌╌╌╌╌╌╌┼╌╌╌╌╌╌╌╌╌╌╌╌╌╌┼╌╌╌╌╌╌╌╌╌╌╌╌╌┼╌╌╌╌╌╌╌╌╌╌╌╌╌╌┼╌╌╌╌╌╌╌╌╌╌╌╌╌┼╌╌╌╌╌╌╌┤\n",
      "│ versicolor ┆ 5.997872     ┆ 2.804255    ┆ 4.317021     ┆ 1.346809    ┆ 281.9 │\n",
      "├╌╌╌╌╌╌╌╌╌╌╌╌┼╌╌╌╌╌╌╌╌╌╌╌╌╌╌┼╌╌╌╌╌╌╌╌╌╌╌╌╌┼╌╌╌╌╌╌╌╌╌╌╌╌╌╌┼╌╌╌╌╌╌╌╌╌╌╌╌╌┼╌╌╌╌╌╌╌┤\n",
      "│ virginica  ┆ 6.622449     ┆ 2.983673    ┆ 5.573469     ┆ 2.032653    ┆ 324.5 │\n",
      "└────────────┴──────────────┴─────────────┴──────────────┴─────────────┴───────┘\n"
     ]
    }
   ],
   "source": [
    "df = pl.read_csv(\"https://j.mp/iriscsv\")\n",
    "print(\n",
    "    df.lazy()\n",
    "      .filter(pl.col(\"sepal_length\") > 5)\n",
    "      .groupby(\"species\")\n",
    "      .agg([\n",
    "            pl.all().mean(),\n",
    "            pl.col(\"sepal_length\").sum().alias(\"sum\"),\n",
    "            ]\n",
    "        )\n",
    "      .collect()\n",
    "      .sort(\"species\")\n",
    ")"
   ]
  },
  {
   "cell_type": "code",
   "execution_count": 104,
   "metadata": {},
   "outputs": [
    {
     "name": "stdout",
     "output_type": "stream",
     "text": [
      "shape: (3, 6)\n",
      "┌────────────┬──────────────┬─────────────┬──────────────┬─────────────┬───────┐\n",
      "│ species    ┆ sepal_length ┆ sepal_width ┆ petal_length ┆ petal_width ┆ sum   │\n",
      "│ ---        ┆ ---          ┆ ---         ┆ ---          ┆ ---         ┆ ---   │\n",
      "│ str        ┆ f64          ┆ f64         ┆ f64          ┆ f64         ┆ f64   │\n",
      "╞════════════╪══════════════╪═════════════╪══════════════╪═════════════╪═══════╡\n",
      "│ setosa     ┆ 5.313636     ┆ 3.713636    ┆ 1.509091     ┆ 0.277273    ┆ 116.9 │\n",
      "├╌╌╌╌╌╌╌╌╌╌╌╌┼╌╌╌╌╌╌╌╌╌╌╌╌╌╌┼╌╌╌╌╌╌╌╌╌╌╌╌╌┼╌╌╌╌╌╌╌╌╌╌╌╌╌╌┼╌╌╌╌╌╌╌╌╌╌╌╌╌┼╌╌╌╌╌╌╌┤\n",
      "│ versicolor ┆ 5.997872     ┆ 2.804255    ┆ 4.317021     ┆ 1.346809    ┆ 281.9 │\n",
      "├╌╌╌╌╌╌╌╌╌╌╌╌┼╌╌╌╌╌╌╌╌╌╌╌╌╌╌┼╌╌╌╌╌╌╌╌╌╌╌╌╌┼╌╌╌╌╌╌╌╌╌╌╌╌╌╌┼╌╌╌╌╌╌╌╌╌╌╌╌╌┼╌╌╌╌╌╌╌┤\n",
      "│ virginica  ┆ 6.622449     ┆ 2.983673    ┆ 5.573469     ┆ 2.032653    ┆ 324.5 │\n",
      "└────────────┴──────────────┴─────────────┴──────────────┴─────────────┴───────┘\n"
     ]
    }
   ],
   "source": [
    "print(\n",
    "    df.filter(pl.col(\"sepal_length\") > 5)\n",
    "      .groupby(\"species\")\n",
    "      .agg([\n",
    "            pl.all().mean(),\n",
    "            pl.col(\"sepal_length\").sum().alias(\"sum\"),\n",
    "            ]\n",
    "        )\n",
    "      .sort(\"species\")\n",
    ")"
   ]
  },
  {
   "cell_type": "code",
   "execution_count": 107,
   "metadata": {},
   "outputs": [
    {
     "name": "stdout",
     "output_type": "stream",
     "text": [
      "shape: (44, 3)\n",
      "┌────────────┬──────────────┬──────────────────┐\n",
      "│ species    ┆ petal_length ┆ sepal_length_sum │\n",
      "│ ---        ┆ ---          ┆ ---              │\n",
      "│ str        ┆ f64          ┆ f64              │\n",
      "╞════════════╪══════════════╪══════════════════╡\n",
      "│ versicolor ┆ 4.2          ┆ 22.9             │\n",
      "├╌╌╌╌╌╌╌╌╌╌╌╌┼╌╌╌╌╌╌╌╌╌╌╌╌╌╌┼╌╌╌╌╌╌╌╌╌╌╌╌╌╌╌╌╌╌┤\n",
      "│ versicolor ┆ 4.0          ┆ 28.9             │\n",
      "├╌╌╌╌╌╌╌╌╌╌╌╌┼╌╌╌╌╌╌╌╌╌╌╌╌╌╌┼╌╌╌╌╌╌╌╌╌╌╌╌╌╌╌╌╌╌┤\n",
      "│ versicolor ┆ 5.1          ┆ 6.0              │\n",
      "├╌╌╌╌╌╌╌╌╌╌╌╌┼╌╌╌╌╌╌╌╌╌╌╌╌╌╌┼╌╌╌╌╌╌╌╌╌╌╌╌╌╌╌╌╌╌┤\n",
      "│ virginica  ┆ 6.0          ┆ 13.5             │\n",
      "├╌╌╌╌╌╌╌╌╌╌╌╌┼╌╌╌╌╌╌╌╌╌╌╌╌╌╌┼╌╌╌╌╌╌╌╌╌╌╌╌╌╌╌╌╌╌┤\n",
      "│ ...        ┆ ...          ┆ ...              │\n",
      "├╌╌╌╌╌╌╌╌╌╌╌╌┼╌╌╌╌╌╌╌╌╌╌╌╌╌╌┼╌╌╌╌╌╌╌╌╌╌╌╌╌╌╌╌╌╌┤\n",
      "│ virginica  ┆ 6.6          ┆ 7.6              │\n",
      "├╌╌╌╌╌╌╌╌╌╌╌╌┼╌╌╌╌╌╌╌╌╌╌╌╌╌╌┼╌╌╌╌╌╌╌╌╌╌╌╌╌╌╌╌╌╌┤\n",
      "│ versicolor ┆ 3.6          ┆ 5.6              │\n",
      "├╌╌╌╌╌╌╌╌╌╌╌╌┼╌╌╌╌╌╌╌╌╌╌╌╌╌╌┼╌╌╌╌╌╌╌╌╌╌╌╌╌╌╌╌╌╌┤\n",
      "│ versicolor ┆ 4.8          ┆ 12.7             │\n",
      "├╌╌╌╌╌╌╌╌╌╌╌╌┼╌╌╌╌╌╌╌╌╌╌╌╌╌╌┼╌╌╌╌╌╌╌╌╌╌╌╌╌╌╌╌╌╌┤\n",
      "│ versicolor ┆ 3.5          ┆ 5.7              │\n",
      "└────────────┴──────────────┴──────────────────┘\n"
     ]
    }
   ],
   "source": [
    "print(\n",
    "    df.filter(pl.col(\"sepal_length\") > 5)\n",
    "      .groupby([\"species\", \"petal_length\"])\n",
    "      .agg(pl.col(\"sepal_length\").sum().alias(\"sepal_length_sum\"))\n",
    ")"
   ]
  },
  {
   "cell_type": "code",
   "execution_count": 108,
   "metadata": {},
   "outputs": [],
   "source": [
    "import numpy as np\n",
    "\n",
    "np.random.seed(12)\n",
    "\n",
    "df = pl.DataFrame(\n",
    "    {\n",
    "        \"nrs\": [1, 2, 3, None, 5],\n",
    "        \"names\": [\"foo\", \"ham\", \"spam\", \"egg\", None],\n",
    "        \"random\": np.random.rand(5),\n",
    "        \"groups\": [\"A\", \"A\", \"B\", \"C\", \"B\"],\n",
    "    }\n",
    ")"
   ]
  },
  {
   "cell_type": "code",
   "execution_count": 114,
   "metadata": {},
   "outputs": [
    {
     "data": {
      "text/html": [
       "<div>\n",
       "<style scoped>\n",
       "    .dataframe tbody tr th:only-of-type {\n",
       "        vertical-align: middle;\n",
       "    }\n",
       "\n",
       "    .dataframe tbody tr th {\n",
       "        vertical-align: top;\n",
       "    }\n",
       "\n",
       "    .dataframe thead th {\n",
       "        text-align: right;\n",
       "    }\n",
       "</style>\n",
       "<table border=\"1 \"class=\"dataframe \">\n",
       "<thead>\n",
       "<tr>\n",
       "<th>\n",
       "unique_names_1\n",
       "</th>\n",
       "<th>\n",
       "unique_names_2\n",
       "</th>\n",
       "</tr>\n",
       "<tr>\n",
       "<td>\n",
       "u32\n",
       "</td>\n",
       "<td>\n",
       "str\n",
       "</td>\n",
       "</tr>\n",
       "</thead>\n",
       "<tbody>\n",
       "<tr>\n",
       "<td>\n",
       "5\n",
       "</td>\n",
       "<td>\n",
       "\"B\"\n",
       "</td>\n",
       "</tr>\n",
       "<tr>\n",
       "<td>\n",
       "5\n",
       "</td>\n",
       "<td>\n",
       "\"A\"\n",
       "</td>\n",
       "</tr>\n",
       "<tr>\n",
       "<td>\n",
       "5\n",
       "</td>\n",
       "<td>\n",
       "\"C\"\n",
       "</td>\n",
       "</tr>\n",
       "</tbody>\n",
       "</table>\n",
       "</div>"
      ],
      "text/plain": [
       "shape: (3, 2)\n",
       "┌────────────────┬────────────────┐\n",
       "│ unique_names_1 ┆ unique_names_2 │\n",
       "│ ---            ┆ ---            │\n",
       "│ u32            ┆ str            │\n",
       "╞════════════════╪════════════════╡\n",
       "│ 5              ┆ B              │\n",
       "├╌╌╌╌╌╌╌╌╌╌╌╌╌╌╌╌┼╌╌╌╌╌╌╌╌╌╌╌╌╌╌╌╌┤\n",
       "│ 5              ┆ A              │\n",
       "├╌╌╌╌╌╌╌╌╌╌╌╌╌╌╌╌┼╌╌╌╌╌╌╌╌╌╌╌╌╌╌╌╌┤\n",
       "│ 5              ┆ C              │\n",
       "└────────────────┴────────────────┘"
      ]
     },
     "execution_count": 114,
     "metadata": {},
     "output_type": "execute_result"
    }
   ],
   "source": [
    "df.select(\n",
    "    [\n",
    "        pl.col(\"groups\").count().alias(\"unique_names_1\"),\n",
    "        pl.col(\"groups\").unique().alias(\"unique_names_2\"),\n",
    "    ]\n",
    ")"
   ]
  },
  {
   "cell_type": "code",
   "execution_count": null,
   "metadata": {},
   "outputs": [],
   "source": []
  }
 ],
 "metadata": {
  "interpreter": {
   "hash": "337f31653d55614d460624929afd7126e454a2f71d7604f7a7344157ac4ab21c"
  },
  "kernelspec": {
   "display_name": "Python 3.10.4 64-bit ('TCC')",
   "language": "python",
   "name": "python3"
  },
  "language_info": {
   "codemirror_mode": {
    "name": "ipython",
    "version": 3
   },
   "file_extension": ".py",
   "mimetype": "text/x-python",
   "name": "python",
   "nbconvert_exporter": "python",
   "pygments_lexer": "ipython3",
   "version": "3.10.4"
  },
  "orig_nbformat": 4
 },
 "nbformat": 4,
 "nbformat_minor": 2
}
