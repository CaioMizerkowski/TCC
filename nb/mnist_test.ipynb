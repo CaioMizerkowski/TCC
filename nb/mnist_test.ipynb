{
 "cells": [
  {
   "cell_type": "code",
   "execution_count": 1,
   "id": "0addcd14-3e5f-42d1-ab5a-8e3c528e53c1",
   "metadata": {},
   "outputs": [
    {
     "name": "stdout",
     "output_type": "stream",
     "text": [
      "TensorFlow version: 2.9.1\n"
     ]
    }
   ],
   "source": [
    "import os\n",
    "os.environ['TF_CPP_MIN_LOG_LEVEL'] = '3'\n",
    "import tensorflow as tf\n",
    "print(\"TensorFlow version:\", tf.__version__)"
   ]
  },
  {
   "cell_type": "code",
   "execution_count": 2,
   "id": "2a25d4f7-29c9-43ac-82ca-2680fc027a14",
   "metadata": {},
   "outputs": [],
   "source": [
    "hw = tf.constant('hello world')"
   ]
  },
  {
   "cell_type": "code",
   "execution_count": 3,
   "id": "15720000-e154-43ec-9aef-e4ee4a692bde",
   "metadata": {},
   "outputs": [],
   "source": [
    "mnist = tf.keras.datasets.fashion_mnist\n",
    "\n",
    "(x_train, y_train), (x_test, y_test) = mnist.load_data()\n",
    "x_train, x_test = x_train / 255.0, x_test / 255.0"
   ]
  },
  {
   "cell_type": "code",
   "execution_count": 4,
   "id": "02fcf9d1-a317-4762-a360-3c5ba768a894",
   "metadata": {},
   "outputs": [],
   "source": [
    "model = tf.keras.models.Sequential([\n",
    "  tf.keras.layers.Flatten(input_shape=(28, 28)),\n",
    "  tf.keras.layers.Dense(128, activation='relu'),\n",
    "  tf.keras.layers.Dense(128, activation='tanh'),\n",
    "  tf.keras.layers.Dense(128, activation='relu'),\n",
    "  tf.keras.layers.Dense(128, activation='tanh'),\n",
    "  tf.keras.layers.Dropout(0.2),\n",
    "  tf.keras.layers.Dense(10)\n",
    "])"
   ]
  },
  {
   "cell_type": "code",
   "execution_count": 5,
   "id": "2ddb78c0-88a8-4dd5-881a-cf3aa191dc20",
   "metadata": {},
   "outputs": [
    {
     "data": {
      "text/plain": [
       "array([[0.11045286, 0.10838641, 0.09274946, 0.09463498, 0.10237866,\n",
       "        0.07962081, 0.09100834, 0.12419031, 0.0880862 , 0.10849199]],\n",
       "      dtype=float32)"
      ]
     },
     "execution_count": 5,
     "metadata": {},
     "output_type": "execute_result"
    }
   ],
   "source": [
    "predictions = model(x_train[:1]).numpy()\n",
    "tf.nn.softmax(predictions).numpy()"
   ]
  },
  {
   "cell_type": "code",
   "execution_count": 6,
   "id": "18eb2b29-aae5-4768-825d-3cc9d17ca1e3",
   "metadata": {},
   "outputs": [],
   "source": [
    "loss_fn = tf.keras.losses.SparseCategoricalCrossentropy(from_logits=True)"
   ]
  },
  {
   "cell_type": "code",
   "execution_count": 7,
   "id": "aaceb1f7-c351-47ad-affb-74b62ee5e659",
   "metadata": {},
   "outputs": [
    {
     "data": {
      "text/plain": [
       "2.2210789"
      ]
     },
     "execution_count": 7,
     "metadata": {},
     "output_type": "execute_result"
    }
   ],
   "source": [
    "loss_fn(y_train[:1], predictions).numpy()"
   ]
  },
  {
   "cell_type": "raw",
   "id": "766b367e-5d1f-4ab2-93de-61f797ebc8f1",
   "metadata": {},
   "source": [
    "https://github.com/fabiodimarco/tf-levenberg-marquardt"
   ]
  },
  {
   "cell_type": "code",
   "execution_count": 8,
   "id": "67658399-fca7-42b5-ba5b-c32c78045182",
   "metadata": {},
   "outputs": [],
   "source": [
    "model.compile(optimizer='adam',\n",
    "              loss=loss_fn,\n",
    "              metrics=['accuracy'])"
   ]
  },
  {
   "cell_type": "code",
   "execution_count": 9,
   "id": "dbfa7e0a-00ab-4725-a1f4-ed011e06d0b2",
   "metadata": {
    "collapsed": true,
    "jupyter": {
     "outputs_hidden": true
    },
    "tags": []
   },
   "outputs": [
    {
     "name": "stdout",
     "output_type": "stream",
     "text": [
      "Epoch 1/50\n",
      "1875/1875 [==============================] - 6s 3ms/step - loss: 0.4961 - accuracy: 0.8203\n",
      "Epoch 2/50\n",
      "1875/1875 [==============================] - 6s 3ms/step - loss: 0.3764 - accuracy: 0.8622\n",
      "Epoch 3/50\n",
      "1875/1875 [==============================] - 6s 3ms/step - loss: 0.3443 - accuracy: 0.8747\n",
      "Epoch 4/50\n",
      "1875/1875 [==============================] - 6s 3ms/step - loss: 0.3187 - accuracy: 0.8831\n",
      "Epoch 5/50\n",
      "1875/1875 [==============================] - 5s 3ms/step - loss: 0.3029 - accuracy: 0.8875\n",
      "Epoch 6/50\n",
      "1875/1875 [==============================] - 6s 3ms/step - loss: 0.2925 - accuracy: 0.8913\n",
      "Epoch 7/50\n",
      "1875/1875 [==============================] - 6s 3ms/step - loss: 0.2810 - accuracy: 0.8956\n",
      "Epoch 8/50\n",
      "1875/1875 [==============================] - 7s 4ms/step - loss: 0.2687 - accuracy: 0.9002\n",
      "Epoch 9/50\n",
      "1875/1875 [==============================] - 7s 4ms/step - loss: 0.2597 - accuracy: 0.9035\n",
      "Epoch 10/50\n",
      "1875/1875 [==============================] - 7s 4ms/step - loss: 0.2528 - accuracy: 0.9057\n",
      "Epoch 11/50\n",
      "1875/1875 [==============================] - 7s 4ms/step - loss: 0.2468 - accuracy: 0.9075\n",
      "Epoch 12/50\n",
      "1875/1875 [==============================] - 6s 3ms/step - loss: 0.2366 - accuracy: 0.9108\n",
      "Epoch 13/50\n",
      "1875/1875 [==============================] - 7s 4ms/step - loss: 0.2328 - accuracy: 0.9134\n",
      "Epoch 14/50\n",
      "1875/1875 [==============================] - 6s 3ms/step - loss: 0.2262 - accuracy: 0.9151\n",
      "Epoch 15/50\n",
      "1875/1875 [==============================] - 6s 3ms/step - loss: 0.2217 - accuracy: 0.9165\n",
      "Epoch 16/50\n",
      "1875/1875 [==============================] - 6s 3ms/step - loss: 0.2171 - accuracy: 0.9183\n",
      "Epoch 17/50\n",
      "1875/1875 [==============================] - 6s 3ms/step - loss: 0.2083 - accuracy: 0.9218\n",
      "Epoch 18/50\n",
      "1875/1875 [==============================] - 6s 3ms/step - loss: 0.2068 - accuracy: 0.9226\n",
      "Epoch 19/50\n",
      "1875/1875 [==============================] - 6s 3ms/step - loss: 0.2023 - accuracy: 0.9245\n",
      "Epoch 20/50\n",
      "1875/1875 [==============================] - 6s 3ms/step - loss: 0.1983 - accuracy: 0.9255\n",
      "Epoch 21/50\n",
      "1875/1875 [==============================] - 6s 3ms/step - loss: 0.1939 - accuracy: 0.9270\n",
      "Epoch 22/50\n",
      "1875/1875 [==============================] - 6s 3ms/step - loss: 0.1870 - accuracy: 0.9306\n",
      "Epoch 23/50\n",
      "1875/1875 [==============================] - 6s 3ms/step - loss: 0.1866 - accuracy: 0.9295\n",
      "Epoch 24/50\n",
      "1875/1875 [==============================] - 5s 3ms/step - loss: 0.1815 - accuracy: 0.9321\n",
      "Epoch 25/50\n",
      "1875/1875 [==============================] - 6s 3ms/step - loss: 0.1776 - accuracy: 0.9335\n",
      "Epoch 26/50\n",
      "1875/1875 [==============================] - 5s 3ms/step - loss: 0.1735 - accuracy: 0.9348\n",
      "Epoch 27/50\n",
      "1875/1875 [==============================] - 5s 3ms/step - loss: 0.1695 - accuracy: 0.9359\n",
      "Epoch 28/50\n",
      "1875/1875 [==============================] - 6s 3ms/step - loss: 0.1691 - accuracy: 0.9362\n",
      "Epoch 29/50\n",
      "1875/1875 [==============================] - 6s 3ms/step - loss: 0.1629 - accuracy: 0.9383\n",
      "Epoch 30/50\n",
      "1875/1875 [==============================] - 6s 3ms/step - loss: 0.1627 - accuracy: 0.9391\n",
      "Epoch 31/50\n",
      "1875/1875 [==============================] - 6s 3ms/step - loss: 0.1568 - accuracy: 0.9420\n",
      "Epoch 32/50\n",
      "1875/1875 [==============================] - 5s 3ms/step - loss: 0.1578 - accuracy: 0.9412\n",
      "Epoch 33/50\n",
      "1875/1875 [==============================] - 6s 3ms/step - loss: 0.1525 - accuracy: 0.9435\n",
      "Epoch 34/50\n",
      "1875/1875 [==============================] - 6s 3ms/step - loss: 0.1513 - accuracy: 0.9444\n",
      "Epoch 35/50\n",
      "1875/1875 [==============================] - 6s 3ms/step - loss: 0.1482 - accuracy: 0.9453\n",
      "Epoch 36/50\n",
      "1875/1875 [==============================] - 6s 3ms/step - loss: 0.1490 - accuracy: 0.9444\n",
      "Epoch 37/50\n",
      "1875/1875 [==============================] - 6s 3ms/step - loss: 0.1431 - accuracy: 0.9469\n",
      "Epoch 38/50\n",
      "1875/1875 [==============================] - 6s 3ms/step - loss: 0.1463 - accuracy: 0.9456\n",
      "Epoch 39/50\n",
      "1875/1875 [==============================] - 6s 3ms/step - loss: 0.1414 - accuracy: 0.9475\n",
      "Epoch 40/50\n",
      "1875/1875 [==============================] - 6s 3ms/step - loss: 0.1389 - accuracy: 0.9485\n",
      "Epoch 41/50\n",
      "1875/1875 [==============================] - 5s 3ms/step - loss: 0.1347 - accuracy: 0.9502\n",
      "Epoch 42/50\n",
      "1875/1875 [==============================] - 5s 3ms/step - loss: 0.1380 - accuracy: 0.9482\n",
      "Epoch 43/50\n",
      "1875/1875 [==============================] - 5s 3ms/step - loss: 0.1352 - accuracy: 0.9497\n",
      "Epoch 44/50\n",
      "1875/1875 [==============================] - 6s 3ms/step - loss: 0.1308 - accuracy: 0.9507\n",
      "Epoch 45/50\n",
      "1875/1875 [==============================] - 6s 3ms/step - loss: 0.1339 - accuracy: 0.9507\n",
      "Epoch 46/50\n",
      "1875/1875 [==============================] - 6s 3ms/step - loss: 0.1319 - accuracy: 0.9523\n",
      "Epoch 47/50\n",
      "1875/1875 [==============================] - 6s 3ms/step - loss: 0.1272 - accuracy: 0.9529\n",
      "Epoch 48/50\n",
      "1875/1875 [==============================] - 6s 3ms/step - loss: 0.1278 - accuracy: 0.9533\n",
      "Epoch 49/50\n",
      "1875/1875 [==============================] - 6s 3ms/step - loss: 0.1253 - accuracy: 0.9548\n",
      "Epoch 50/50\n",
      "1875/1875 [==============================] - 6s 3ms/step - loss: 0.1261 - accuracy: 0.9540\n"
     ]
    },
    {
     "data": {
      "text/plain": [
       "<keras.callbacks.History at 0x7f7b9d53fb20>"
      ]
     },
     "execution_count": 9,
     "metadata": {},
     "output_type": "execute_result"
    }
   ],
   "source": [
    "model.fit(x_train, y_train, epochs=50)"
   ]
  },
  {
   "cell_type": "code",
   "execution_count": 10,
   "id": "13bb5b6b-cad5-4405-a08c-b3f1997b0c69",
   "metadata": {},
   "outputs": [
    {
     "name": "stdout",
     "output_type": "stream",
     "text": [
      "313/313 - 2s - loss: 0.3976 - accuracy: 0.8852 - 2s/epoch - 6ms/step\n"
     ]
    },
    {
     "data": {
      "text/plain": [
       "[0.397632360458374, 0.885200023651123]"
      ]
     },
     "execution_count": 10,
     "metadata": {},
     "output_type": "execute_result"
    }
   ],
   "source": [
    "model.evaluate(x_test,  y_test, verbose=2)"
   ]
  },
  {
   "cell_type": "code",
   "execution_count": 11,
   "id": "078d6f1e-9ca4-48ca-81c6-a5a2a56295f5",
   "metadata": {},
   "outputs": [],
   "source": [
    "probability_model = tf.keras.Sequential([\n",
    "  model,\n",
    "  tf.keras.layers.Softmax()\n",
    "])"
   ]
  },
  {
   "cell_type": "code",
   "execution_count": 12,
   "id": "884f3930-4e2f-4e4e-993d-94832540d182",
   "metadata": {},
   "outputs": [
    {
     "data": {
      "text/plain": [
       "array([[1.75949128e-04, 7.99901754e-05, 3.36481135e-05, 1.03163846e-04,\n",
       "        8.86610815e-06, 3.25288530e-03, 6.61705926e-05, 4.82217893e-02,\n",
       "        8.17850581e-04, 9.99472351e+01],\n",
       "       [4.11462970e-02, 4.87683021e-04, 9.96163254e+01, 6.67622220e-03,\n",
       "        1.23654820e-01, 9.52575429e-05, 2.10064188e-01, 1.95691362e-04,\n",
       "        1.23713422e-03, 1.18989294e-04],\n",
       "       [1.55433700e-05, 9.99997406e+01, 3.40073757e-06, 1.45577025e-04,\n",
       "        2.50488538e-05, 3.31666160e-05, 3.28083952e-05, 7.20937851e-06,\n",
       "        7.42820475e-06, 3.84678469e-06],\n",
       "       [1.23970312e-05, 9.99997482e+01, 3.05702497e-06, 1.10968540e-04,\n",
       "        3.15033649e-05, 2.28302451e-05, 2.87416406e-05, 1.30628805e-05,\n",
       "        1.48973513e-05, 4.59494549e-06],\n",
       "       [2.80419388e+01, 1.81561118e-04, 4.91039962e-01, 1.06778309e-01,\n",
       "        1.70977890e-01, 9.04373810e-05, 7.11847000e+01, 9.38223966e-05,\n",
       "        3.30028962e-03, 8.97897000e-04]], dtype=float32)"
      ]
     },
     "execution_count": 12,
     "metadata": {},
     "output_type": "execute_result"
    }
   ],
   "source": [
    "probability_model(x_test[:5]).numpy()*100"
   ]
  },
  {
   "cell_type": "code",
   "execution_count": null,
   "id": "45cb7cbf",
   "metadata": {},
   "outputs": [],
   "source": []
  }
 ],
 "metadata": {
  "interpreter": {
   "hash": "337f31653d55614d460624929afd7126e454a2f71d7604f7a7344157ac4ab21c"
  },
  "kernelspec": {
   "display_name": "Python 3.10.4 64-bit ('TCC')",
   "language": "python",
   "name": "python3"
  },
  "language_info": {
   "codemirror_mode": {
    "name": "ipython",
    "version": 3
   },
   "file_extension": ".py",
   "mimetype": "text/x-python",
   "name": "python",
   "nbconvert_exporter": "python",
   "pygments_lexer": "ipython3",
   "version": "3.10.4"
  }
 },
 "nbformat": 4,
 "nbformat_minor": 5
}
