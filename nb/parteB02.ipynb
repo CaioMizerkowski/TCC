{
 "cells": [
  {
   "cell_type": "markdown",
   "metadata": {},
   "source": [
    "# Rotinas para a detecção das não-bijetividades"
   ]
  },
  {
   "cell_type": "code",
   "execution_count": 2,
   "metadata": {},
   "outputs": [],
   "source": [
    "import sys\n",
    "import os\n",
    "os.environ['TF_CPP_MIN_LOG_LEVEL'] = '3'\n",
    "sys.path.insert(0,'..')\n",
    "import lib.tf_levenberg_marquardt.levenberg_marquardt as lm\n",
    "import tensorflow as tf\n",
    "import numpy as np\n",
    "import seaborn as sns\n",
    "from pathlib import Path\n",
    "from matplotlib import pyplot as plt\n",
    "from tensorflow import keras\n",
    "from keras import layers\n",
    "from itertools import product\n",
    "from time import time"
   ]
  },
  {
   "cell_type": "code",
   "execution_count": 4,
   "metadata": {},
   "outputs": [],
   "source": [
    "def load_csv2numpy(p):\n",
    "    return np.loadtxt(p, delimiter=',', dtype=np.float32, skiprows=1)"
   ]
  },
  {
   "cell_type": "code",
   "execution_count": 5,
   "metadata": {},
   "outputs": [],
   "source": [
    "def z2n(n):\n",
    "    return n if n<0 else None"
   ]
  },
  {
   "cell_type": "code",
   "execution_count": 6,
   "metadata": {},
   "outputs": [],
   "source": [
    "def prep_data(x, M):\n",
    "    a0 = np.abs(x)\n",
    "    end = z2n(-M-1)\n",
    "    abs = [a0[:end],]\n",
    "    for m in range(M):\n",
    "        end = z2n(-M+m)\n",
    "        abs.append(a0[m+1:end])\n",
    "    abs = np.array(abs).T\n",
    "\n",
    "    p0 = np.angle(x)\n",
    "    end = z2n(-M-1)\n",
    "    phase = [p0[:end],]\n",
    "    for m in range(M):\n",
    "        end = z2n(-M+m)\n",
    "        phase.append(p0[m+1:end])\n",
    "    phase = np.array(phase).T\n",
    "\n",
    "    delta = []\n",
    "    for m in range(1,M+1):\n",
    "        delta.append(phase[:,m]-phase[:,m-1])\n",
    "    delta = np.array(delta).T\n",
    "    \n",
    "    d_cos = np.cos(delta)\n",
    "    d_sin = np.sin(delta)\n",
    "    return abs, d_cos, d_sin"
   ]
  },
  {
   "cell_type": "code",
   "execution_count": 7,
   "metadata": {},
   "outputs": [],
   "source": [
    "def recuperar_data(s, x):\n",
    "    y = s*np.exp(1j*np.angle(x))\n",
    "    return y"
   ]
  },
  {
   "cell_type": "code",
   "execution_count": 8,
   "metadata": {},
   "outputs": [],
   "source": [
    "def gerar_s(y, x, M=0):\n",
    "    s = y[M:-1]*np.exp(-1j*np.angle(x[M:-1]))\n",
    "    return s.real, s.imag"
   ]
  },
  {
   "cell_type": "code",
   "execution_count": 9,
   "metadata": {},
   "outputs": [],
   "source": [
    "def normalize_data(x):\n",
    "    return (x)/np.std(x)"
   ]
  },
  {
   "cell_type": "code",
   "execution_count": 10,
   "metadata": {},
   "outputs": [],
   "source": [
    "def gen_model(M, HL, name):\n",
    "    size_input = 1+3*(M)\n",
    "    inputs = keras.Input(shape=(size_input,))\n",
    "    hidden = layers.Dense(HL, activation='relu')(inputs)\n",
    "    output = layers.Dense(1, activation='linear')(hidden)\n",
    "    model = keras.Model(inputs=inputs, outputs=output, name=name)\n",
    "    model = lm.ModelWrapper(model)\n",
    "    return model"
   ]
  },
  {
   "cell_type": "code",
   "execution_count": 11,
   "metadata": {},
   "outputs": [],
   "source": [
    "def compile_model(model):\n",
    "    model.compile(\n",
    "        optimizer=tf.keras.optimizers.SGD(learning_rate=1),\n",
    "        loss=lm.MeanSquaredError(),\n",
    "        metrics=['accuracy','mse'])"
   ]
  },
  {
   "cell_type": "code",
   "execution_count": 12,
   "metadata": {},
   "outputs": [],
   "source": [
    "def fit_model(model, epochs, inputs, s):\n",
    "    history = model.fit(inputs, s, epochs=epochs, batch_size=2048, verbose=0)\n",
    "    return history"
   ]
  },
  {
   "cell_type": "code",
   "execution_count": 13,
   "metadata": {},
   "outputs": [],
   "source": [
    "def validation_models(model_real, model_imag, inputs, x, M):\n",
    "    s_hat_real = model_real.predict(inputs, verbose=0).reshape(-1,)\n",
    "    s_hat_imag = model_imag.predict(inputs, verbose=0).reshape(-1,)\n",
    "\n",
    "    s_hat = s_hat_real + 1j*s_hat_imag\n",
    "    y_hat = recuperar_data(s_hat, x[M:-1])\n",
    "    # nmse\n",
    "    nmse = 10*np.log10(\n",
    "        np.sum(np.abs(y[M:-1]-y_hat)**2)/\n",
    "        np.sum(np.abs(y[M:-1])**2)\n",
    "        )\n",
    "    return nmse"
   ]
  },
  {
   "cell_type": "code",
   "execution_count": 14,
   "metadata": {},
   "outputs": [],
   "source": [
    "def find_best_M_HL(x, y, M_min=0, M_max=10, HL_min=1, HL_max=10):\n",
    "    best_model = None\n",
    "    best_nmse = np.inf\n",
    "    metaparams = product(range(M_min,M_max+1), range(HL_min,HL_max+1))\n",
    "    for M, HL in metaparams:\n",
    "        start = time()\n",
    "    \n",
    "        a,dc,ds = prep_data(x, M)\n",
    "        inputs = np.concatenate([a,dc,ds], axis=1)\n",
    "        s_real, s_imag = gerar_s(y,x,M)\n",
    "\n",
    "        model_real = gen_model(M, HL, 'parte_real')\n",
    "        model_imag = gen_model(M, HL, 'parte_imag')\n",
    "\n",
    "        compile_model(model_real)\n",
    "        compile_model(model_imag)\n",
    "\n",
    "        fit_model(model_real, 1000, inputs, s_real)\n",
    "        fit_model(model_imag, 1000, inputs, s_imag)\n",
    "\n",
    "        nmse = validation_models(model_real, model_imag, inputs, x, M)\n",
    "        end = time()\n",
    "        if nmse < best_nmse:\n",
    "            best_nmse = nmse\n",
    "            best_model = (model_real, model_imag)\n",
    "            best_M = M\n",
    "            print('*** BEST ***')\n",
    "            print(f'Shape:{inputs.shape[1]} M:{M} HL:{HL} nmse:{nmse} time:{end-start}')\n",
    "    return best_model, best_M"
   ]
  },
  {
   "cell_type": "code",
   "execution_count": 15,
   "metadata": {},
   "outputs": [],
   "source": [
    "def validation(model, x, y, M):\n",
    "    a,dc,ds = prep_data(x, M)\n",
    "    inputs = np.concatenate([a,dc,ds], axis=1)\n",
    "    \n",
    "    s_hat_real = model[0].predict(inputs, verbose=0).reshape(-1,)\n",
    "    s_hat_imag = model[1].predict(inputs, verbose=0).reshape(-1,)\n",
    "\n",
    "    s_hat = s_hat_real + 1j*s_hat_imag\n",
    "    y_hat = recuperar_data(s_hat, x[M:-1])\n",
    "    # nmse\n",
    "    nmse = 10*np.log10(\n",
    "        np.sum(np.abs(y[M:-1]-y_hat)**2)/\n",
    "        np.sum(np.abs(y[M:-1])**2)\n",
    "        )\n",
    "    print(f'Validação - nmse:{nmse}')\n",
    "    model[0].summary()\n",
    "    model[1].summary()\n",
    "    return nmse"
   ]
  },
  {
   "cell_type": "code",
   "execution_count": 49,
   "metadata": {},
   "outputs": [
    {
     "data": {
      "image/png": "[encoded data removed]",
      "text/plain": [
       "<Figure size 720x360 with 1 Axes>"
      ]
     },
     "metadata": {
      "needs_background": "light"
     },
     "output_type": "display_data"
    },
    {
     "name": "stdout",
     "output_type": "stream",
     "text": [
      "*** BEST ***\n",
      "Shape:25 M:8 HL:20 nmse:-35.92296838760376 time:535.7540552616119\n",
      "*** BEST ***\n",
      "Shape:25 M:8 HL:21 nmse:-37.78100252151489 time:519.4988420009613\n",
      "*** BEST ***\n",
      "Shape:28 M:9 HL:20 nmse:-41.85326099395752 time:606.6283621788025\n",
      "*** BEST ***\n",
      "Shape:28 M:9 HL:21 nmse:-42.22189426422119 time:412.4887924194336\n",
      "Validação - nmse:-26.971802711486816\n",
      "Model: \"model_wrapper_70\"\n",
      "_________________________________________________________________\n",
      " Layer (type)                Output Shape              Param #   \n",
      "=================================================================\n",
      " parte_real (Functional)     (None, 1)                 631       \n",
      "                                                                 \n",
      "=================================================================\n",
      "Total params: 631\n",
      "Trainable params: 631\n",
      "Non-trainable params: 0\n",
      "_________________________________________________________________\n",
      "Model: \"model_wrapper_71\"\n",
      "_________________________________________________________________\n",
      " Layer (type)                Output Shape              Param #   \n",
      "=================================================================\n",
      " parte_imag (Functional)     (None, 1)                 631       \n",
      "                                                                 \n",
      "=================================================================\n",
      "Total params: 631\n",
      "Trainable params: 631\n",
      "Non-trainable params: 0\n",
      "_________________________________________________________________\n"
     ]
    }
   ],
   "source": [
    "# Problema inverso\n",
    "p = Path().glob('../data/modeleddoherty_extraction.csv')\n",
    "\n",
    "data = load_csv2numpy(p)\n",
    " \n",
    "x = data[:, 2] + 1j*data[:, 3]\n",
    "x = normalize_data(x)\n",
    "x_abs = np.abs(x)\n",
    "\n",
    "y = data[:, 0] + 1j*data[:, 1]\n",
    "y = normalize_data(y)\n",
    "y_abs = np.abs(y)\n",
    "\n",
    "plt.figure(figsize=(10,5))\n",
    "sns.scatterplot(x=x_abs, y=y_abs, label='abs')\n",
    "plt.grid()\n",
    "plt.title(p.stem)\n",
    "plt.show()\n",
    "plt.close()\n",
    "M = 9\n",
    "HL = 21\n",
    "\n",
    "nmse = validation(model, x, y, M)\n",
    "\n",
    "# best_model, M = find_best_M_HL(x, y, M_min=8, M_max=10, HL_min=20, HL_max=22)\n",
    "\n",
    "pv = p.parent/p.parts[-1].replace('extraction', 'validation')\n",
    "data = load_csv2numpy(pv)\n",
    "\n",
    "x = data[:, 2] + 1j*data[:, 3]\n",
    "x = normalize_data(x)\n",
    "\n",
    "y = data[:, 0] + 1j*data[:, 1]\n",
    "y = normalize_data(y)\n",
    "\n",
    "nmse = validation(model, x, y, M)"
   ]
  },
  {
   "cell_type": "code",
   "execution_count": 17,
   "metadata": {},
   "outputs": [
    {
     "ename": "TypeError",
     "evalue": "ModelWrapper.__init__() got an unexpected keyword argument 'name'",
     "output_type": "error",
     "traceback": [
      "\u001b[0;31m---------------------------------------------------------------------------\u001b[0m",
      "\u001b[0;31mTypeError\u001b[0m                                 Traceback (most recent call last)",
      "\u001b[1;32m/home/caio/TCC/nb/parteB02.ipynb Cell 16\u001b[0m in \u001b[0;36m<cell line: 2>\u001b[0;34m()\u001b[0m\n\u001b[1;32m      <a href='vscode-notebook-cell://wsl%2Bubuntu/home/caio/TCC/nb/parteB02.ipynb#ch0000020vscode-remote?line=0'>1</a>\u001b[0m custom_objects \u001b[39m=\u001b[39m {\u001b[39m\"\u001b[39m\u001b[39mModelWrapper\u001b[39m\u001b[39m\"\u001b[39m: lm\u001b[39m.\u001b[39mModelWrapper}\n\u001b[0;32m----> <a href='vscode-notebook-cell://wsl%2Bubuntu/home/caio/TCC/nb/parteB02.ipynb#ch0000020vscode-remote?line=1'>2</a>\u001b[0m model_real \u001b[39m=\u001b[39m tf\u001b[39m.\u001b[39;49mkeras\u001b[39m.\u001b[39;49mmodels\u001b[39m.\u001b[39;49mload_model(\u001b[39m'\u001b[39;49m\u001b[39m./model_dohertz_imag.h5\u001b[39;49m\u001b[39m'\u001b[39;49m, custom_objects\u001b[39m=\u001b[39;49mcustom_objects)\n\u001b[1;32m      <a href='vscode-notebook-cell://wsl%2Bubuntu/home/caio/TCC/nb/parteB02.ipynb#ch0000020vscode-remote?line=2'>3</a>\u001b[0m model_imag \u001b[39m=\u001b[39m tf\u001b[39m.\u001b[39mkeras\u001b[39m.\u001b[39mmodels\u001b[39m.\u001b[39mload_model(\u001b[39m'\u001b[39m\u001b[39m./model_dohertz_imag.h5\u001b[39m\u001b[39m'\u001b[39m, custom_objects\u001b[39m=\u001b[39mcustom_objects)\n\u001b[1;32m      <a href='vscode-notebook-cell://wsl%2Bubuntu/home/caio/TCC/nb/parteB02.ipynb#ch0000020vscode-remote?line=3'>4</a>\u001b[0m model \u001b[39m=\u001b[39m [model_real, model_imag]\n",
      "File \u001b[0;32m~/.pyenv/versions/3.10.4/envs/TCC/lib/python3.10/site-packages/keras/utils/traceback_utils.py:67\u001b[0m, in \u001b[0;36mfilter_traceback.<locals>.error_handler\u001b[0;34m(*args, **kwargs)\u001b[0m\n\u001b[1;32m     65\u001b[0m \u001b[39mexcept\u001b[39;00m \u001b[39mException\u001b[39;00m \u001b[39mas\u001b[39;00m e:  \u001b[39m# pylint: disable=broad-except\u001b[39;00m\n\u001b[1;32m     66\u001b[0m   filtered_tb \u001b[39m=\u001b[39m _process_traceback_frames(e\u001b[39m.\u001b[39m__traceback__)\n\u001b[0;32m---> 67\u001b[0m   \u001b[39mraise\u001b[39;00m e\u001b[39m.\u001b[39mwith_traceback(filtered_tb) \u001b[39mfrom\u001b[39;00m \u001b[39mNone\u001b[39m\n\u001b[1;32m     68\u001b[0m \u001b[39mfinally\u001b[39;00m:\n\u001b[1;32m     69\u001b[0m   \u001b[39mdel\u001b[39;00m filtered_tb\n",
      "File \u001b[0;32m~/.pyenv/versions/3.10.4/envs/TCC/lib/python3.10/site-packages/keras/engine/sequential.py:435\u001b[0m, in \u001b[0;36mSequential.from_config\u001b[0;34m(cls, config, custom_objects)\u001b[0m\n\u001b[1;32m    433\u001b[0m   build_input_shape \u001b[39m=\u001b[39m \u001b[39mNone\u001b[39;00m\n\u001b[1;32m    434\u001b[0m   layer_configs \u001b[39m=\u001b[39m config\n\u001b[0;32m--> 435\u001b[0m model \u001b[39m=\u001b[39m \u001b[39mcls\u001b[39;49m(name\u001b[39m=\u001b[39;49mname)\n\u001b[1;32m    436\u001b[0m \u001b[39mfor\u001b[39;00m layer_config \u001b[39min\u001b[39;00m layer_configs:\n\u001b[1;32m    437\u001b[0m   layer \u001b[39m=\u001b[39m layer_module\u001b[39m.\u001b[39mdeserialize(layer_config,\n\u001b[1;32m    438\u001b[0m                                    custom_objects\u001b[39m=\u001b[39mcustom_objects)\n",
      "\u001b[0;31mTypeError\u001b[0m: ModelWrapper.__init__() got an unexpected keyword argument 'name'"
     ]
    }
   ],
   "source": [
    "custom_objects = {\"ModelWrapper\": lm.ModelWrapper}\n",
    "model_real = tf.keras.models.load_model('./model_dohertz_imag.h5', custom_objects=custom_objects)\n",
    "model_imag = tf.keras.models.load_model('./model_dohertz_imag.h5', custom_objects=custom_objects)\n",
    "model = [model_real, model_imag]"
   ]
  },
  {
   "cell_type": "code",
   "execution_count": null,
   "metadata": {},
   "outputs": [],
   "source": [
    "custom_objects = {\"ModelWrapper\": lm.ModelWrapper, \"custom_activation\": lm.MeanSquaredError}"
   ]
  }
 ],
 "metadata": {
  "kernelspec": {
   "display_name": "Python 3.10.4 64-bit ('TCC')",
   "language": "python",
   "name": "python3"
  },
  "language_info": {
   "codemirror_mode": {
    "name": "ipython",
    "version": 3
   },
   "file_extension": ".py",
   "mimetype": "text/x-python",
   "name": "python",
   "nbconvert_exporter": "python",
   "pygments_lexer": "ipython3",
   "version": "3.10.4"
  },
  "orig_nbformat": 4,
  "vscode": {
   "interpreter": {
    "hash": "337f31653d55614d460624929afd7126e454a2f71d7604f7a7344157ac4ab21c"
   }
  }
 },
 "nbformat": 4,
 "nbformat_minor": 2
}
